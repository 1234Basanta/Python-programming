{
  "nbformat": 4,
  "nbformat_minor": 0,
  "metadata": {
    "colab": {
      "provenance": [],
      "authorship_tag": "ABX9TyNnvtrG8B7K0w/gjv7ahdIE",
      "include_colab_link": true
    },
    "kernelspec": {
      "name": "python3",
      "display_name": "Python 3"
    },
    "language_info": {
      "name": "python"
    }
  },
  "cells": [
    {
      "cell_type": "markdown",
      "metadata": {
        "id": "view-in-github",
        "colab_type": "text"
      },
      "source": [
        "<a href=\"https://colab.research.google.com/github/1234Basanta/Python-programming/blob/main/input%20function.ipynb\" target=\"_parent\"><img src=\"https://colab.research.google.com/assets/colab-badge.svg\" alt=\"Open In Colab\"/></a>"
      ]
    },
    {
      "cell_type": "code",
      "execution_count": 2,
      "metadata": {
        "colab": {
          "base_uri": "https://localhost:8080/"
        },
        "id": "YkVwezYvwobC",
        "outputId": "abf85daa-af5b-4506-a6ad-37d4cf9aae1b"
      },
      "outputs": [
        {
          "output_type": "stream",
          "name": "stdout",
          "text": [
            "What is your name?\n",
            "Basanta\n",
            "What is your age?\n",
            "23\n",
            "hello! Welcome Basanta!In order to buy alcohol you need to be older than 21.\n"
          ]
        }
      ],
      "source": [
        "name = input(\"What is your name?\\n\")\n",
        "age = input(\"What is your age?\\n\")\n",
        "print(\"hello! \"+\"Welcome \"+name+\"!\"+\"In order to buy alcohol you need to be older than 21.\")\n",
        "\n",
        "\n",
        "\n"
      ]
    },
    {
      "cell_type": "markdown",
      "source": [
        "#from youtube video\n"
      ],
      "metadata": {
        "id": "kotxH5CUuZVp"
      }
    },
    {
      "cell_type": "code",
      "source": [
        "name1 = input(\"What is your name?: \")\n",
        "age1 = int(input(\"Who old are you?: \"))\n",
        "height = float(input(\"What's your height?: \"))\n",
        "\n",
        "print(\"Hello \"+ name1)\n",
        "print(\"You are \"+str(age1)+\"years old\")\n",
        "print(\"You are \"+str(height)+\"cm tall\")"
      ],
      "metadata": {
        "colab": {
          "base_uri": "https://localhost:8080/"
        },
        "id": "qVc5JtW36Mk_",
        "outputId": "1d0c1e66-c563-4aac-ce44-038bf04c0e5f"
      },
      "execution_count": 4,
      "outputs": [
        {
          "output_type": "stream",
          "name": "stdout",
          "text": [
            "What is your name?: Basanta\n",
            "Who old are you?: 21\n",
            "What's your height?: 140.5\n",
            "Hello Basanta\n",
            "You are 21years old\n",
            "You are 140.5cm tall\n"
          ]
        }
      ]
    }
  ]
}